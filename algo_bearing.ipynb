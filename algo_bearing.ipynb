{
 "cells": [
  {
   "cell_type": "code",
   "execution_count": 1,
   "id": "041cbc8d-9411-40b2-b22a-d63bc88bd542",
   "metadata": {},
   "outputs": [],
   "source": [
    "#import\n",
    "import pandas as pd\n",
    "from fuzzywuzzy import fuzz,process\n",
    "import numpy as np\n",
    "import re\n",
    "pd.set_option('display.max_rows', None)"
   ]
  },
  {
   "cell_type": "markdown",
   "id": "cbdffd5f-f6ad-4266-a651-6339bfb7d091",
   "metadata": {
    "tags": []
   },
   "source": [
    "### DATA KHUSUS BEARING"
   ]
  },
  {
   "cell_type": "markdown",
   "id": "2b7b9375-e5bb-46c7-a933-37161d050a9b",
   "metadata": {},
   "source": [
    "NOTE\n",
    "1. kata yang mengandung ukuran seperti MM\n",
    "2. kata yang mengandung huruf dan angka dipisahkan oleh spasi\n",
    "3. kata yang mengandung dash atau garis miring\n",
    "4. kata yang memiliki string panjang\n",
    "5. kata harus mengandung XBEARING atau BALL BEARING"
   ]
  },
  {
   "cell_type": "code",
   "execution_count": 2,
   "id": "d953e76c-f15a-473b-9559-84fbe2241516",
   "metadata": {},
   "outputs": [
    {
     "data": {
      "text/html": [
       "<div>\n",
       "<style scoped>\n",
       "    .dataframe tbody tr th:only-of-type {\n",
       "        vertical-align: middle;\n",
       "    }\n",
       "\n",
       "    .dataframe tbody tr th {\n",
       "        vertical-align: top;\n",
       "    }\n",
       "\n",
       "    .dataframe thead th {\n",
       "        text-align: right;\n",
       "    }\n",
       "</style>\n",
       "<table border=\"1\" class=\"dataframe\">\n",
       "  <thead>\n",
       "    <tr style=\"text-align: right;\">\n",
       "      <th></th>\n",
       "      <th>Unnamed: 0</th>\n",
       "      <th>kode_item</th>\n",
       "      <th>nama_item</th>\n",
       "      <th>part_number</th>\n",
       "      <th>jenis_item</th>\n",
       "      <th>kategori_item</th>\n",
       "      <th>status</th>\n",
       "      <th>updated_at</th>\n",
       "      <th>sbu</th>\n",
       "      <th>item_id</th>\n",
       "      <th>...</th>\n",
       "      <th>REF.part_number</th>\n",
       "      <th>REF.coarse_spec</th>\n",
       "      <th>REF.jenis_item</th>\n",
       "      <th>REF.kategori_item</th>\n",
       "      <th>REF.status</th>\n",
       "      <th>REF.sub_cluster</th>\n",
       "      <th>_score</th>\n",
       "      <th>agg_cluster_label_after</th>\n",
       "      <th>agg_cluster_label_REF.nama_item</th>\n",
       "      <th>ref_nama_item</th>\n",
       "    </tr>\n",
       "  </thead>\n",
       "  <tbody>\n",
       "    <tr>\n",
       "      <th>0</th>\n",
       "      <td>0</td>\n",
       "      <td>SPT.P1.DA.00000327</td>\n",
       "      <td>BEARING NTN FLW685ZZA</td>\n",
       "      <td>BEARING NTN FLW685ZZA</td>\n",
       "      <td>Stock</td>\n",
       "      <td>SPAREPART</td>\n",
       "      <td>Active</td>\n",
       "      <td>2021-07-08 03:58:15</td>\n",
       "      <td>IPG</td>\n",
       "      <td>IPG-SPT.P1.DA.00000327</td>\n",
       "      <td>...</td>\n",
       "      <td>NaN</td>\n",
       "      <td>FLW685ZZA</td>\n",
       "      <td>Stock</td>\n",
       "      <td>SPAREPART</td>\n",
       "      <td>Active</td>\n",
       "      <td>BEARING</td>\n",
       "      <td>100.0</td>\n",
       "      <td>0</td>\n",
       "      <td>0.0</td>\n",
       "      <td>BEARING FLW685ZZA</td>\n",
       "    </tr>\n",
       "    <tr>\n",
       "      <th>1</th>\n",
       "      <td>1</td>\n",
       "      <td>SPT.P1.BC.00000061</td>\n",
       "      <td>NTN BEARING FLW687ZZ</td>\n",
       "      <td>NTN BEARING FLW687ZZ</td>\n",
       "      <td>Stock</td>\n",
       "      <td>SPAREPART</td>\n",
       "      <td>Active</td>\n",
       "      <td>2019-01-11 09:14:55</td>\n",
       "      <td>IPG</td>\n",
       "      <td>IPG-SPT.P1.BC.00000061</td>\n",
       "      <td>...</td>\n",
       "      <td>NaN</td>\n",
       "      <td>FLW687ZZ</td>\n",
       "      <td>Stock</td>\n",
       "      <td>SPAREPART</td>\n",
       "      <td>Active</td>\n",
       "      <td>BEARING</td>\n",
       "      <td>100.0</td>\n",
       "      <td>0</td>\n",
       "      <td>0.0</td>\n",
       "      <td>BEARING FLW687ZZ</td>\n",
       "    </tr>\n",
       "    <tr>\n",
       "      <th>2</th>\n",
       "      <td>2</td>\n",
       "      <td>SPT.P5.MT.00000393</td>\n",
       "      <td>BEARING FYH UCP208J</td>\n",
       "      <td>BEARING FYH UCP208J</td>\n",
       "      <td>Stock</td>\n",
       "      <td>SPAREPART</td>\n",
       "      <td>Active</td>\n",
       "      <td>2021-03-18 01:30:34</td>\n",
       "      <td>IPG</td>\n",
       "      <td>IPG-SPT.P5.MT.00000393</td>\n",
       "      <td>...</td>\n",
       "      <td>NaN</td>\n",
       "      <td>UCP208J</td>\n",
       "      <td>Stock</td>\n",
       "      <td>SPAREPART</td>\n",
       "      <td>Active</td>\n",
       "      <td>BEARING</td>\n",
       "      <td>100.0</td>\n",
       "      <td>7</td>\n",
       "      <td>1.0</td>\n",
       "      <td>BEARING UCP 208 J</td>\n",
       "    </tr>\n",
       "    <tr>\n",
       "      <th>3</th>\n",
       "      <td>3</td>\n",
       "      <td>MS01132</td>\n",
       "      <td>BEARING  UCP208</td>\n",
       "      <td>NaN</td>\n",
       "      <td>Stock</td>\n",
       "      <td>SPAREPART</td>\n",
       "      <td>Active</td>\n",
       "      <td>2015-01-17 10:16:46</td>\n",
       "      <td>ISP</td>\n",
       "      <td>ISP-MS01132</td>\n",
       "      <td>...</td>\n",
       "      <td>NaN</td>\n",
       "      <td>UCP208</td>\n",
       "      <td>Stock</td>\n",
       "      <td>SPAREPART</td>\n",
       "      <td>Active</td>\n",
       "      <td>BEARING</td>\n",
       "      <td>100.0</td>\n",
       "      <td>7</td>\n",
       "      <td>1.0</td>\n",
       "      <td>BEARING UCP 208</td>\n",
       "    </tr>\n",
       "    <tr>\n",
       "      <th>4</th>\n",
       "      <td>4</td>\n",
       "      <td>MS01231</td>\n",
       "      <td>BEARING  UC208</td>\n",
       "      <td>NaN</td>\n",
       "      <td>Stock</td>\n",
       "      <td>SPAREPART</td>\n",
       "      <td>Active</td>\n",
       "      <td>2023-09-07 14:38:53.990000</td>\n",
       "      <td>ISP</td>\n",
       "      <td>ISP-MS01231</td>\n",
       "      <td>...</td>\n",
       "      <td>NaN</td>\n",
       "      <td>UC208</td>\n",
       "      <td>Stock</td>\n",
       "      <td>SPAREPART</td>\n",
       "      <td>Active</td>\n",
       "      <td>BEARING</td>\n",
       "      <td>100.0</td>\n",
       "      <td>7</td>\n",
       "      <td>1.0</td>\n",
       "      <td>BEARING UC 208</td>\n",
       "    </tr>\n",
       "  </tbody>\n",
       "</table>\n",
       "<p>5 rows × 28 columns</p>\n",
       "</div>"
      ],
      "text/plain": [
       "   Unnamed: 0           kode_item              nama_item  \\\n",
       "0           0  SPT.P1.DA.00000327  BEARING NTN FLW685ZZA   \n",
       "1           1  SPT.P1.BC.00000061   NTN BEARING FLW687ZZ   \n",
       "2           2  SPT.P5.MT.00000393    BEARING FYH UCP208J   \n",
       "3           3             MS01132        BEARING  UCP208   \n",
       "4           4             MS01231         BEARING  UC208   \n",
       "\n",
       "             part_number jenis_item kategori_item  status  \\\n",
       "0  BEARING NTN FLW685ZZA      Stock     SPAREPART  Active   \n",
       "1   NTN BEARING FLW687ZZ      Stock     SPAREPART  Active   \n",
       "2    BEARING FYH UCP208J      Stock     SPAREPART  Active   \n",
       "3                    NaN      Stock     SPAREPART  Active   \n",
       "4                    NaN      Stock     SPAREPART  Active   \n",
       "\n",
       "                   updated_at  sbu                 item_id  ...  \\\n",
       "0         2021-07-08 03:58:15  IPG  IPG-SPT.P1.DA.00000327  ...   \n",
       "1         2019-01-11 09:14:55  IPG  IPG-SPT.P1.BC.00000061  ...   \n",
       "2         2021-03-18 01:30:34  IPG  IPG-SPT.P5.MT.00000393  ...   \n",
       "3         2015-01-17 10:16:46  ISP             ISP-MS01132  ...   \n",
       "4  2023-09-07 14:38:53.990000  ISP             ISP-MS01231  ...   \n",
       "\n",
       "  REF.part_number REF.coarse_spec REF.jenis_item REF.kategori_item  \\\n",
       "0             NaN       FLW685ZZA          Stock         SPAREPART   \n",
       "1             NaN        FLW687ZZ          Stock         SPAREPART   \n",
       "2             NaN         UCP208J          Stock         SPAREPART   \n",
       "3             NaN          UCP208          Stock         SPAREPART   \n",
       "4             NaN           UC208          Stock         SPAREPART   \n",
       "\n",
       "   REF.status REF.sub_cluster _score agg_cluster_label_after  \\\n",
       "0      Active         BEARING  100.0                       0   \n",
       "1      Active         BEARING  100.0                       0   \n",
       "2      Active         BEARING  100.0                       7   \n",
       "3      Active         BEARING  100.0                       7   \n",
       "4      Active         BEARING  100.0                       7   \n",
       "\n",
       "  agg_cluster_label_REF.nama_item      ref_nama_item  \n",
       "0                             0.0  BEARING FLW685ZZA  \n",
       "1                             0.0   BEARING FLW687ZZ  \n",
       "2                             1.0  BEARING UCP 208 J  \n",
       "3                             1.0    BEARING UCP 208  \n",
       "4                             1.0     BEARING UC 208  \n",
       "\n",
       "[5 rows x 28 columns]"
      ]
     },
     "execution_count": 2,
     "metadata": {},
     "output_type": "execute_result"
    }
   ],
   "source": [
    "df = pd.read_excel('C:/Users/Corporate/Documents/ovi/RAW DATA TERBARU/bearing_100323_v1.xlsx')\n",
    "# df2 = df.drop(['new_kata2','note'],axis=1)\n",
    "df.head()"
   ]
  },
  {
   "cell_type": "code",
   "execution_count": 3,
   "id": "5c1c3db5-bd57-4f08-b591-fcf6a004d636",
   "metadata": {},
   "outputs": [
    {
     "name": "stdout",
     "output_type": "stream",
     "text": [
      "<class 'pandas.core.frame.DataFrame'>\n",
      "RangeIndex: 1287 entries, 0 to 1286\n",
      "Data columns (total 28 columns):\n",
      " #   Column                           Non-Null Count  Dtype  \n",
      "---  ------                           --------------  -----  \n",
      " 0   Unnamed: 0                       1287 non-null   int64  \n",
      " 1   kode_item                        1287 non-null   object \n",
      " 2   nama_item                        1287 non-null   object \n",
      " 3   part_number                      581 non-null    object \n",
      " 4   jenis_item                       1287 non-null   object \n",
      " 5   kategori_item                    1287 non-null   object \n",
      " 6   status                           1287 non-null   object \n",
      " 7   updated_at                       1287 non-null   object \n",
      " 8   sbu                              1287 non-null   object \n",
      " 9   item_id                          1287 non-null   object \n",
      " 10  sub_cluster                      1287 non-null   object \n",
      " 11  part_number_clean                213 non-null    object \n",
      " 12  nama_item_clean                  1287 non-null   object \n",
      " 13  coarse_spec                      1214 non-null   object \n",
      " 14  _rownum                          1287 non-null   int64  \n",
      " 15  _processed_at                    1277 non-null   object \n",
      " 16  ref_id                           1277 non-null   object \n",
      " 17  REF.nama_item                    1276 non-null   object \n",
      " 18  REF.part_number                  207 non-null    object \n",
      " 19  REF.coarse_spec                  1202 non-null   object \n",
      " 20  REF.jenis_item                   1277 non-null   object \n",
      " 21  REF.kategori_item                1277 non-null   object \n",
      " 22  REF.status                       1277 non-null   object \n",
      " 23  REF.sub_cluster                  1277 non-null   object \n",
      " 24  _score                           1287 non-null   float64\n",
      " 25  agg_cluster_label_after          1287 non-null   int64  \n",
      " 26  agg_cluster_label_REF.nama_item  1277 non-null   float64\n",
      " 27  ref_nama_item                    1276 non-null   object \n",
      "dtypes: float64(2), int64(3), object(23)\n",
      "memory usage: 281.7+ KB\n"
     ]
    }
   ],
   "source": [
    "df.info()"
   ]
  },
  {
   "cell_type": "code",
   "execution_count": 47,
   "id": "f5ad79e7-1837-4bce-9855-856ac00319f1",
   "metadata": {},
   "outputs": [],
   "source": [
    "df=df.drop([ 'S1',\n",
    " 'S2',\n",
    " 'S3',\n",
    " 'S4',\n",
    " 'S5',\n",
    " 'S6',\n",
    " 'S7',\n",
    " 'S8',\n",
    " 'S9',\n",
    " 'S10'],axis=1)"
   ]
  },
  {
   "cell_type": "code",
   "execution_count": 28,
   "id": "1d49fc83-f56e-4dcf-921d-5ba8007ed468",
   "metadata": {},
   "outputs": [
    {
     "name": "stdout",
     "output_type": "stream",
     "text": [
      "100\n",
      "100\n",
      "100\n",
      "100\n",
      "100\n"
     ]
    }
   ],
   "source": [
    "# df['nama_item_new'] = df['nama_item'].copy()\n",
    "h = ['SOK / BUBUT RUMAH BEARING','SOK BEARING RUMAH','SOK RUMAH BEARING 6208','SOK RUMAH BEARING 6208','BEARING 18010 SOK']\n",
    "target= 'SOK BUSHING RUMAH BEARING AS GEAR DRILLING MANUAL'\n",
    "for target in h:\n",
    "    print(res)"
   ]
  },
  {
   "cell_type": "code",
   "execution_count": 55,
   "id": "218f40a2-616a-4acd-bd82-c45499dc6610",
   "metadata": {},
   "outputs": [],
   "source": [
    "# df['ref_nama_item']=df['ref_nama_item'].fillna(0,inplace=True)"
   ]
  },
  {
   "cell_type": "code",
   "execution_count": 81,
   "id": "0e1ed184-51b5-4d12-af15-a0b36d65f78f",
   "metadata": {},
   "outputs": [],
   "source": [
    "# df['nama_item_new'] = df['nama_item_new'].str.replace('2Z','ZZ')\n",
    "# Check for missing values and fill them with an empty string\n",
    "# df['REF.ref_nama_item']=df['REF.ref_nama_item'].fillna('-4')\n",
    "df['ref_nama_item'] = df['REF.nama_item'].copy()"
   ]
  },
  {
   "cell_type": "code",
   "execution_count": 61,
   "id": "9ccd1a31-21ad-415d-86bb-4f059af2e9b5",
   "metadata": {},
   "outputs": [],
   "source": [
    "# df[df['ref_nama_item'].str.contains('TRACKER',case=False)]"
   ]
  },
  {
   "cell_type": "markdown",
   "id": "efa32cf4-f123-4247-a9b9-b981e2e1762b",
   "metadata": {},
   "source": [
    "## Cleaning by cluster"
   ]
  },
  {
   "cell_type": "code",
   "execution_count": 343,
   "id": "dcced7a0-ec95-44e2-91b8-b10fd8fff74e",
   "metadata": {},
   "outputs": [
    {
     "name": "stdout",
     "output_type": "stream",
     "text": [
      "BEARING 1217 K\n",
      "BEARING 1213 K\n"
     ]
    }
   ],
   "source": [
    "#45\n",
    "#229\n",
    "#514\n",
    "#345\n",
    "#283\n",
    "#108\n",
    "#86\n",
    "#119\n",
    "#65\n",
    "#150\n",
    "counts= df['agg_cluster_label_REF.nama_item'] ==160\n",
    "for idx, row in df.iterrows():\n",
    "    if counts[idx]:\n",
    "        print(row['ref_nama_item'])"
   ]
  },
  {
   "cell_type": "code",
   "execution_count": 341,
   "id": "d7cc26cb-1be3-488b-85ca-a829fd7a54e8",
   "metadata": {},
   "outputs": [
    {
     "name": "stdout",
     "output_type": "stream",
     "text": [
      "462    BEARING UCF 208 J\n",
      "463     BEARING UCFL 208\n",
      "Name: ref_nama_item, dtype: object\n"
     ]
    }
   ],
   "source": [
    "df.loc[counts, 'ref_nama_item'] = df.loc[counts, 'ref_nama_item'].str.replace('UCF208J', 'UCF 208 J').str.strip()\n",
    "print(df.loc[counts, 'ref_nama_item'])"
   ]
  },
  {
   "cell_type": "code",
   "execution_count": 288,
   "id": "dfe33688-c482-446b-9ac6-9ad28bc44867",
   "metadata": {},
   "outputs": [
    {
     "name": "stdout",
     "output_type": "stream",
     "text": [
      "1     516\n",
      "2     170\n",
      "3      77\n",
      "4      22\n",
      "5      11\n",
      "6       3\n",
      "13      1\n",
      "9       1\n",
      "7       1\n",
      "Name: agg_cluster_label_REF.nama_item, dtype: int64\n"
     ]
    }
   ],
   "source": [
    "s=df['agg_cluster_label_REF.nama_item'].value_counts()\n",
    "h = (s).value_counts()\n",
    "print(h)"
   ]
  },
  {
   "cell_type": "code",
   "execution_count": 298,
   "id": "25b1c4b4-13e5-40b3-8922-c02adf8183ff",
   "metadata": {},
   "outputs": [
    {
     "name": "stdout",
     "output_type": "stream",
     "text": [
      "1    516\n",
      "2    170\n",
      "Name: agg_cluster_label_REF.nama_item, dtype: int64\n"
     ]
    }
   ],
   "source": [
    "# Mengambil semua nilai yang memiliki jumlah kemunculan sebanyak 1 atau 2\n",
    "desired_values = h[(h == 516) | (h == 170)]\n",
    "\n",
    "# Menampilkan nilai-nilai tersebut\n",
    "print(desired_values)"
   ]
  },
  {
   "cell_type": "markdown",
   "id": "672d7873-94e3-45f8-ad67-995b3fec8d71",
   "metadata": {
    "jp-MarkdownHeadingCollapsed": true,
    "tags": []
   },
   "source": [
    "## Remove Pola"
   ]
  },
  {
   "cell_type": "code",
   "execution_count": 10,
   "id": "8c4dfab9-796e-4302-9cfb-2c726a5d0db0",
   "metadata": {},
   "outputs": [],
   "source": [
    "# remove pola W.230-107 \n",
    "def hapus_pola(teks):\n",
    "    pola = r'W\\.\\d{3}-\\d{3}'  # Pola yang ingin dihapus\n",
    "    teks_baru = re.sub(pola, '', teks)\n",
    "    return teks_baru\n",
    "df['nama_item_new']=df['nama_item_new'].apply(hapus_pola)"
   ]
  },
  {
   "cell_type": "code",
   "execution_count": 3,
   "id": "957583aa-b81c-454f-a2da-884fe03819c4",
   "metadata": {},
   "outputs": [],
   "source": [
    "# def remove_dash_at_end(sentence):\n",
    "#     # Menggunakan pola regex untuk mencocokkan tanda \"-\" pada akhir kalimat\n",
    "#     pattern = r'(.+)-$'\n",
    "#     replacement = r'\\1'\n",
    "#     modified_sentence = re.sub(pattern, replacement, sentence)\n",
    "\n",
    "#     return modified_sentence"
   ]
  },
  {
   "cell_type": "code",
   "execution_count": 4,
   "id": "317f2171-2e1b-428c-984f-837ea08e4d34",
   "metadata": {},
   "outputs": [],
   "source": [
    "# def sorting_word(kata):\n",
    "#     if not isinstance(kata, str):\n",
    "#         kata = str(kata)\n",
    "    \n",
    "#     kata_list = kata.split()\n",
    "    \n",
    "#     if 'BALL BEARING' in kata_list:\n",
    "#         kata_list.remove('BALL BEARING')\n",
    "#         kata_list.insert(0, 'BALL BEARING')\n",
    "#     elif 'XBEARING' in kata_list:\n",
    "#         kata_list.remove('XBEARING')\n",
    "#         kata_list.insert(0, 'XBEARING')\n",
    "#     else:\n",
    "#         for i, word in enumerate(kata_list):\n",
    "#             if word.replace(',', '').isalnum() and not word.replace(',', '').isalpha():\n",
    "#                 kata_list.remove(word)\n",
    "#                 kata_list.append(word)\n",
    "#                 break\n",
    "    \n",
    "#     if 'ART' in kata_list and 'BEARING' in kata_list:\n",
    "#         kata_list.remove('ART')\n",
    "#         kata_list.remove('BEARING')\n",
    "#         kata_list.insert(0, 'BEARING')\n",
    "#         kata_list.insert(1, 'ART')\n",
    "#     elif 'NTN' in kata_list and 'BEARING' in kata_list:\n",
    "#         kata_list.remove('NTN')\n",
    "#         kata_list.remove('BEARING')\n",
    "#         kata_list.insert(0, 'BEARING')\n",
    "#         kata_list.insert(1, 'NTN')\n",
    "#     elif 'NU' in kata_list and 'BEARING' in kata_list:\n",
    "#         kata_list.remove('NU')\n",
    "#         kata_list.remove('BEARING')\n",
    "#         kata_list.insert(0, 'BEARING')\n",
    "#         kata_list.insert(1, 'NU')\n",
    "#     elif 'NUTR' in kata_list and 'BEARING' in kata_list:\n",
    "#         kata_list.remove('NUTR')\n",
    "#         kata_list.remove('BEARING')\n",
    "#         kata_list.insert(0, 'BEARING')\n",
    "#         kata_list.insert(1, 'NUTR')\n",
    "#     elif 'UCP' in kata_list and 'BEARING' in kata_list:\n",
    "#         kata_list.remove('UCP')\n",
    "#         kata_list.remove('BEARING')\n",
    "#         kata_list.insert(0, 'BEARING')\n",
    "#         kata_list.insert(1, 'UCP')\n",
    "#     elif 'FAG' in kata_list and 'BEARING' in kata_list:\n",
    "#         kata_list.remove('FAG')\n",
    "#         kata_list.remove('BEARING')\n",
    "#         kata_list.insert(0, 'BEARING')\n",
    "#         kata_list.insert(1, 'FAG')\n",
    "    \n",
    "    \n",
    "    \n",
    "#     numbers = [word for word in kata_list if word.isnumeric()]\n",
    "#     non_numbers = [word for word in kata_list if not word.isnumeric()]\n",
    "#     kata_list = non_numbers + numbers\n",
    "    \n",
    "#     hyphen_words = [word for word in kata_list if '-' in word]\n",
    "#     non_hyphen_words = [word for word in kata_list if '-' not in word]\n",
    "#     manipulated_kata = non_hyphen_words + hyphen_words\n",
    "    \n",
    "#     return ' '.join(manipulated_kata).replace(',', ' ')\n",
    "# df2['kata'] =  df2['nama_item'].apply(sorting_word)\n",
    "# df2['kata'] =  df2['kata'].apply(remove_dash_at_end)\n",
    "\n",
    "# #pola untuk BEARING HR.30210-JY yang dipisahkan . atau spasi\n",
    "# def format_sentence12(sentence):\n",
    "#     if not isinstance(sentence, str):\n",
    "#         sentence = str(sentence) \n",
    "#     # Menggunakan ekspresi reguler untuk mencari pola HR diikuti dengan angka\n",
    "#     match = re.search(r'(HR)[.-]?(\\d+)[.-:](\\w)?', sentence)\n",
    "\n",
    "#     if match:\n",
    "#         # Menggabungkan pola HR dan angka dengan spasi di antara keduanya\n",
    "#         formatted_sentence = re.sub(r'(HR)[.-]?(\\d+)[.-:](\\w)?', r'\\1 \\2 \\3', sentence)\n",
    "#         return formatted_sentence\n",
    "\n",
    "#     # Jika pola tidak sesuai, mengembalikan kalimat asli\n",
    "#     return sentence\n",
    "\n",
    "# df['nama_item_new'] = df['kata'].apply(format_sentence12)\n",
    "# # input_sentence = \"BEARING HR.30210:JY\"\n",
    "# # result = format_sentence12(input_sentence)\n",
    "# # print(result)\n",
    "\n",
    "# def rearrange_sentence4(sentence):\n",
    "#     # Menggunakan pola regex untuk menemukan pola \"X <angka>\" dan menggantinya dengan \"<angka> X\"\n",
    "#     pattern = r'\\bX\\b\\s+(\\d+)'\n",
    "#     replacement = r'\\1 X'\n",
    "#     modified_sentence = re.sub(pattern, replacement, sentence)\n",
    "\n",
    "#     return modified_sentence\n",
    "\n",
    "# df2['kata'] = df2['kata'].apply(rearrange_sentence4)\n",
    "\n",
    "# Contoh penggunaan\n",
    "# sentence = \"BEARING TLA X 28 X 35 25\"\n",
    "# hasil = rearrange_sentence4(sentence)\n",
    "# print(hasil)  # Output: BEARING TLA 28 X 35 X 25\n"
   ]
  },
  {
   "cell_type": "markdown",
   "id": "758826af-0a69-42ba-a711-03cb97df9948",
   "metadata": {
    "tags": []
   },
   "source": [
    "## Remove Word"
   ]
  },
  {
   "cell_type": "code",
   "execution_count": 344,
   "id": "e65c9d32-6918-426e-ad25-7ad7004c159f",
   "metadata": {},
   "outputs": [],
   "source": [
    "df.to_excel('C:/Users/Corporate/Documents/ovi/RAW DATA TERBARU/bearing_100323_v2.xlsx')"
   ]
  },
  {
   "cell_type": "markdown",
   "id": "01ad7093-cf4d-414c-8433-ae56ce53c2ff",
   "metadata": {
    "jp-MarkdownHeadingCollapsed": true,
    "tags": []
   },
   "source": [
    "## Replace WORD"
   ]
  },
  {
   "cell_type": "code",
   "execution_count": 11,
   "id": "10ee52a8-6ca8-4d02-8635-16f99cf6b6d3",
   "metadata": {},
   "outputs": [],
   "source": [
    "#pola untuk mencari penulisan needle yang salah dengan tingkat kemiripan 80\n",
    "def find_and_replace_needle(string):\n",
    "    needle = \"NEEDLE\"\n",
    "    similarity_threshold = 80\n",
    "\n",
    "    words = string.split()  # Membagi string menjadi kata-kata\n",
    "\n",
    "    for i, word in enumerate(words):\n",
    "        if fuzz.ratio(word, needle) > similarity_threshold:\n",
    "            words[i] = needle\n",
    "\n",
    "    return ' '.join(words)  # Menggabungkan kata-kata menjadi string kembali\n",
    "df['nama_item_new'] = df['nama_item_new'].apply(find_and_replace_needle)\n",
    "\n",
    "#pola untuk mencari penulisan thrust yang salah dengan tingkat kemiripan 80\n",
    "def find_and_replace_thrust(string):\n",
    "    needle = \"THRUST\"\n",
    "    similarity_threshold = 80\n",
    "\n",
    "    words = string.split()  # Membagi string menjadi kata-kata\n",
    "\n",
    "    for i, word in enumerate(words):\n",
    "        if fuzz.ratio(word, needle) > similarity_threshold:\n",
    "            words[i] = needle\n",
    "\n",
    "    return ' '.join(words)  # Menggabungkan kata-kata menjadi string kembali\n",
    "df['nama_item_new'] = df['nama_item_new'].apply(find_and_replace_thrust)"
   ]
  },
  {
   "cell_type": "code",
   "execution_count": 54,
   "id": "88f65e5b-dad2-4585-9838-0bf0bf34c489",
   "metadata": {},
   "outputs": [],
   "source": [
    "#pola untuk mencari penulisan sock yang salah dengan tingkat kemiripan 80\n",
    "def find_and_replace_sock(string):\n",
    "    needle = \"SOK\"\n",
    "    similarity_threshold = 70\n",
    "\n",
    "    words = string.split()  # Membagi string menjadi kata-kata\n",
    "\n",
    "    for i, word in enumerate(words):\n",
    "        if fuzz.ratio(word, needle) > similarity_threshold:\n",
    "            words[i] = needle\n",
    "\n",
    "    return ' '.join(words)  # Menggabungkan kata-kata menjadi string kembali\n",
    "df['nama_item_new'] = df['nama_item_new'].apply(find_and_replace_sock)"
   ]
  },
  {
   "cell_type": "code",
   "execution_count": 56,
   "id": "a194ab11-bffc-4fb3-a1db-63c3b46f915f",
   "metadata": {},
   "outputs": [],
   "source": [
    "#pola untuk mencari penulisan tracker yang salah dengan tingkat kemiripan 80\n",
    "def find_and_replace_tracker(string):\n",
    "    needle = \"TREKER\"\n",
    "    similarity_threshold = 70\n",
    "\n",
    "    words = string.split()  # Membagi string menjadi kata-kata\n",
    "\n",
    "    for i, word in enumerate(words):\n",
    "        if fuzz.ratio(word, needle) > similarity_threshold:\n",
    "            words[i] = needle\n",
    "\n",
    "    return ' '.join(words)  # Menggabungkan kata-kata menjadi string kembali\n",
    "df['nama_item_new'] = df['nama_item_new'].apply(find_and_replace_tracker)"
   ]
  },
  {
   "cell_type": "markdown",
   "id": "8b960b5f-aa30-41b8-b216-9ac3df410693",
   "metadata": {
    "jp-MarkdownHeadingCollapsed": true,
    "tags": []
   },
   "source": [
    "## Move Needle or Thrust Infront"
   ]
  },
  {
   "cell_type": "code",
   "execution_count": 29,
   "id": "348bab2e-9d0e-4fa9-9f51-af9d24964780",
   "metadata": {},
   "outputs": [],
   "source": [
    "# #pola angka sekitar x\n",
    "# def format_sentence13(sentence):\n",
    "#     # Menggunakan ekspresi reguler untuk mencari pola dengan angka di sekitar 'X'\n",
    "#     match = re.search(r'(\\bX\\b)\\s+(\\d+)\\s+(\\d+)', sentence)\n",
    "\n",
    "#     if match:\n",
    "#         # Menggabungkan pola dengan angka dalam urutan yang diinginkan\n",
    "#         formatted_sentence = re.sub(r'(\\bX\\b)\\s+(\\d+)\\s+(\\d+)', r'\\2 \\1 \\3', sentence)\n",
    "#         return formatted_sentence\n",
    "\n",
    "#     # Jika pola tidak sesuai, mengembalikan kalimat asli\n",
    "#     return sentence\n",
    "# f ='BEARING TLA X X 28 35 25'\n",
    "# d = format_sentence13(f)\n",
    "# print(d)\n",
    "\n",
    "# df2['kata'] = df2['kata'].apply(format_sentence13)\n",
    "\n",
    "#kata needle mirip untuk memindahkan ke depan\n",
    "def move_needle_to_front(row):\n",
    "    choices = row.split()\n",
    "    needle_match = process.extractOne(\"NEEDLE\", choices, scorer=fuzz.ratio)\n",
    "    if needle_match and needle_match[1] > 70:\n",
    "        choices.remove(needle_match[0])\n",
    "        choices.insert(0, needle_match[0])\n",
    "        return ' '.join(choices)\n",
    "    else:\n",
    "        return row\n",
    "df['nama_item_new'] = df['nama_item_new'].apply(move_needle_to_front)\n",
    "\n",
    "def move_thrust_to_front(row):\n",
    "    choices = row.split()\n",
    "    needle_match = process.extractOne(\"THRUST\", choices, scorer=fuzz.ratio)\n",
    "    if needle_match and needle_match[1] > 70:\n",
    "        choices.remove(needle_match[0])\n",
    "        choices.insert(0, needle_match[0])\n",
    "        return ' '.join(choices)\n",
    "    else:\n",
    "        return row\n",
    "df['nama_item_new'] = df['nama_item_new'].apply(move_thrust_to_front)\n",
    "\n",
    "\n",
    "#pola untuk move rail\n",
    "# def move_needle_to_front_RAIL(row):\n",
    "#     choices = row.split()\n",
    "#     needle_match = process.extractOne(\"RAIL\", choices, scorer=fuzz.ratio)\n",
    "#     if needle_match and needle_match[1] > 70:\n",
    "#         choices.remove(needle_match[0])\n",
    "#         choices.insert(0, needle_match[0])\n",
    "#         return ' '.join(choices)\n",
    "#     else:\n",
    "#         return row\n",
    "# df2['kata'] = df2['kata'].apply(move_needle_to_front_RAIL)\n",
    "\n",
    "# def remove_character_after_4_digits(sentence):\n",
    "#     # Menggunakan pola regex untuk mencocokkan 4 digit angka diikuti oleh karakter yang akan dihapus\n",
    "#     pattern = r'(\\d{4})(?:-|\\.)(\\w+)'\n",
    "#     replacement = r'\\1 \\2'\n",
    "#     modified_sentence = re.sub(pattern, replacement, sentence)\n",
    "\n",
    "#     return modified_sentence\n",
    "# df2['kata'] = df2['kata'].apply(remove_character_after_4_digits)\n",
    "\n",
    "# input_sentence = \"BEARING 222098-6KK\"\n",
    "# result = remove_character_after_4_digits(input_sentence)\n",
    "# print(result)"
   ]
  },
  {
   "cell_type": "markdown",
   "id": "05b36b4a-5b86-46dc-9644-79fe54f41136",
   "metadata": {
    "jp-MarkdownHeadingCollapsed": true,
    "tags": []
   },
   "source": [
    "## Extract Bearing Number"
   ]
  },
  {
   "cell_type": "code",
   "execution_count": 48,
   "id": "680c662d-b4a7-4511-8f95-220a60c5ad45",
   "metadata": {},
   "outputs": [],
   "source": [
    "df=df.drop('Numbers',axis=1)"
   ]
  },
  {
   "cell_type": "code",
   "execution_count": 49,
   "id": "12784b05-17db-43cc-be61-b44e2069ef0f",
   "metadata": {},
   "outputs": [],
   "source": [
    "# Define a function to extract numbers using regular expressions\n",
    "def extract_numbers(text):\n",
    "    numbers = re.findall(r'\\d+\\.\\d+|\\d+', text)  # This regex pattern captures integers and decimals\n",
    "    if numbers:\n",
    "        return numbers[0]\n",
    "    else:\n",
    "        return None\n",
    "    \n",
    "# Apply the function to create a new 'Numbers' column\n",
    "df['Numbers'] = df['nama_item_new'].apply(extract_numbers)"
   ]
  },
  {
   "cell_type": "code",
   "execution_count": 6,
   "id": "6b45c017-aed2-43f1-97aa-f7faa5e41dd2",
   "metadata": {},
   "outputs": [],
   "source": [
    "# def separate_ucp(kata):\n",
    "#     kata = kata.upper()\n",
    "#     pattern = r'(\\bUCP)(\\d+)(\\w)'\n",
    "#     replacement = r'\\1 \\2 \\3'\n",
    "#     kata = re.sub(pattern, replacement, kata)\n",
    "    \n",
    "#     return kata\n",
    "\n",
    "# df2['kata'] = df2['kata'].apply(separate_ucp)\n",
    "# r = 'BEARING FYH UCP206J'\n",
    "# d = separate_ucp(r)\n",
    "# print(d) "
   ]
  },
  {
   "cell_type": "code",
   "execution_count": 61,
   "id": "c98d9614-019f-459d-8933-a508fe7ce2e4",
   "metadata": {},
   "outputs": [],
   "source": [
    "df.to_excel('C:/Users/Corporate/Documents/ovi/item_bearing/edit_bearing/bearing_060923_v3.xlsx',index=False)"
   ]
  },
  {
   "cell_type": "code",
   "execution_count": 7,
   "id": "d5e12bb5-f302-47a3-ae4a-eeecacdee8ba",
   "metadata": {},
   "outputs": [
    {
     "name": "stdout",
     "output_type": "stream",
     "text": [
      "BEARING 30216 J\n"
     ]
    }
   ],
   "source": [
    "def move_words_to_end1(teks):\n",
    "    if isinstance(teks, list):\n",
    "        teks = ' '.join(teks)\n",
    "        \n",
    "    kata_split = teks.split()\n",
    "\n",
    "    words_to_move = [\"ZZ\", \"Z\",\"E\",\"NR\",\"J2\",\"2RS\",\"2RS1\",\"RS\",\"BK\",\"K\",\"J\",\"UU\",\"R\",\"A3S\",\"C3\",\"C\",\"D\",\"B\",\"J\",\"EKTN\",\"EX\",\"CAK/C3W33\",\"CAW33C3\",\"CCK/W33\",\"CAK/C4W33\",\"CC/W33\",\"ZZ/C3\",\"J2/Q\",\"/Q\",\n",
    "                    \"Z1\",\"DW\",\"2RSR\",\"2RSI\",\"U298\",\"ZZNR\",\"ES\",\"V\",\"TF\",\"2Z/C3\",\"2RSI/C3\",\"C3Z\",\"BEP\",\"ECP\",\"/C3\",\"UZ\",\"LUU\",\"LLU\",\"J7\"]\n",
    "\n",
    "    for word in words_to_move:\n",
    "        if word in kata_split:\n",
    "            index_word = kata_split.index(word)\n",
    "            kata_split.append(kata_split.pop(index_word))\n",
    "\n",
    "    return ' '.join(kata_split)\n",
    "f = 'BEARING J 30216'\n",
    "w = move_words_to_end1(f)\n",
    "print(w)\n",
    "\n",
    "df2['kata'] = df2['kata'].apply(move_words_to_end1)"
   ]
  },
  {
   "cell_type": "code",
   "execution_count": 8,
   "id": "7e3415bf-99b7-4b69-aabf-e914651e3342",
   "metadata": {},
   "outputs": [],
   "source": [
    "# df2.to_excel('bearing45.xlsx',index=False)"
   ]
  },
  {
   "cell_type": "code",
   "execution_count": null,
   "id": "d2aca36b-d01c-4c34-bb01-4012c3d30237",
   "metadata": {},
   "outputs": [],
   "source": [
    "def move_words_to_end(teks):\n",
    "    kata_split = teks.split()\n",
    "\n",
    "    words_to_move = [\"ZZ\", \"NR\"]\n",
    "\n",
    "    for word in words_to_move:\n",
    "        if word in kata_split:\n",
    "            index_word = kata_split.index(word)\n",
    "            kata_split.append(kata_split.pop(index_word))\n",
    "\n",
    "    return ' '.join(kata_split)"
   ]
  },
  {
   "cell_type": "code",
   "execution_count": 122,
   "id": "d9ddcdda-8764-4e99-a65d-60da0ee9f2a2",
   "metadata": {},
   "outputs": [],
   "source": [
    "data.to_excel('bearing_180923_v2.xlsx',index=False)"
   ]
  },
  {
   "cell_type": "code",
   "execution_count": 82,
   "id": "93cf6f18",
   "metadata": {},
   "outputs": [
    {
     "data": {
      "text/html": [
       "<div>\n",
       "<style scoped>\n",
       "    .dataframe tbody tr th:only-of-type {\n",
       "        vertical-align: middle;\n",
       "    }\n",
       "\n",
       "    .dataframe tbody tr th {\n",
       "        vertical-align: top;\n",
       "    }\n",
       "\n",
       "    .dataframe thead th {\n",
       "        text-align: right;\n",
       "    }\n",
       "</style>\n",
       "<table border=\"1\" class=\"dataframe\">\n",
       "  <thead>\n",
       "    <tr style=\"text-align: right;\">\n",
       "      <th></th>\n",
       "      <th>kode_item</th>\n",
       "      <th>nama_item</th>\n",
       "      <th>part_number</th>\n",
       "      <th>jenis_item</th>\n",
       "      <th>kategori_item</th>\n",
       "      <th>status</th>\n",
       "      <th>updated_at</th>\n",
       "      <th>sbu</th>\n",
       "      <th>item_id</th>\n",
       "      <th>sub_cluster</th>\n",
       "      <th>...</th>\n",
       "      <th>_rownum</th>\n",
       "      <th>_processed_at</th>\n",
       "      <th>ref_id</th>\n",
       "      <th>REF.nama_item</th>\n",
       "      <th>REF.part_number</th>\n",
       "      <th>REF.coarse_spec</th>\n",
       "      <th>REF.jenis_item</th>\n",
       "      <th>REF.kategori_item</th>\n",
       "      <th>REF.status</th>\n",
       "      <th>_score</th>\n",
       "    </tr>\n",
       "  </thead>\n",
       "  <tbody>\n",
       "    <tr>\n",
       "      <th>0</th>\n",
       "      <td>SPT.P2.NS.00004510</td>\n",
       "      <td>BEARING SKF 6010 2Z</td>\n",
       "      <td>BEARING SKF 6010 2Z</td>\n",
       "      <td>Stock</td>\n",
       "      <td>SPAREPART</td>\n",
       "      <td>Active</td>\n",
       "      <td>2023-05-24 04:07:28</td>\n",
       "      <td>IPG</td>\n",
       "      <td>IPG-SPT.P2.NS.00004510</td>\n",
       "      <td>BEARING</td>\n",
       "      <td>...</td>\n",
       "      <td>1231</td>\n",
       "      <td>2023-09-11 05:56:34.345551+00:00</td>\n",
       "      <td>IT-629</td>\n",
       "      <td>BEARING SKF 6010 ZZ</td>\n",
       "      <td>NaN</td>\n",
       "      <td>6010</td>\n",
       "      <td>Stock</td>\n",
       "      <td>SPAREPART</td>\n",
       "      <td>Active</td>\n",
       "      <td>100.0</td>\n",
       "    </tr>\n",
       "    <tr>\n",
       "      <th>1</th>\n",
       "      <td>MS01175</td>\n",
       "      <td>BEARING            ,30218 J2</td>\n",
       "      <td>NaN</td>\n",
       "      <td>Stock</td>\n",
       "      <td>SPAREPART</td>\n",
       "      <td>Active</td>\n",
       "      <td>2015-01-17 10:17:12</td>\n",
       "      <td>ISP</td>\n",
       "      <td>ISP-MS01175</td>\n",
       "      <td>BEARING</td>\n",
       "      <td>...</td>\n",
       "      <td>377</td>\n",
       "      <td>2023-09-11 05:56:29.674547+00:00</td>\n",
       "      <td>IT-630</td>\n",
       "      <td>BEARING 30218 J2</td>\n",
       "      <td>NaN</td>\n",
       "      <td>30218 J2</td>\n",
       "      <td>Stock</td>\n",
       "      <td>SPAREPART</td>\n",
       "      <td>Active</td>\n",
       "      <td>100.0</td>\n",
       "    </tr>\n",
       "    <tr>\n",
       "      <th>2</th>\n",
       "      <td>610504000106</td>\n",
       "      <td>Bearing Type 6307</td>\n",
       "      <td>NaN</td>\n",
       "      <td>Stock</td>\n",
       "      <td>SPAREPART</td>\n",
       "      <td>Active</td>\n",
       "      <td>2023-04-13 09:21:24</td>\n",
       "      <td>IRP</td>\n",
       "      <td>IRP-610504000106</td>\n",
       "      <td>BEARING</td>\n",
       "      <td>...</td>\n",
       "      <td>112</td>\n",
       "      <td>2023-09-11 05:56:29.674547+00:00</td>\n",
       "      <td>IT-631</td>\n",
       "      <td>BEARING 6307</td>\n",
       "      <td>NaN</td>\n",
       "      <td>6307</td>\n",
       "      <td>Stock</td>\n",
       "      <td>SPAREPART</td>\n",
       "      <td>Active</td>\n",
       "      <td>100.0</td>\n",
       "    </tr>\n",
       "    <tr>\n",
       "      <th>3</th>\n",
       "      <td>MS01055</td>\n",
       "      <td>BEARING  6307</td>\n",
       "      <td>NaN</td>\n",
       "      <td>Stock</td>\n",
       "      <td>SPAREPART</td>\n",
       "      <td>Active</td>\n",
       "      <td>2019-10-22 08:01:07</td>\n",
       "      <td>ISP</td>\n",
       "      <td>ISP-MS01055</td>\n",
       "      <td>BEARING</td>\n",
       "      <td>...</td>\n",
       "      <td>273</td>\n",
       "      <td>2023-09-11 05:56:29.674547+00:00</td>\n",
       "      <td>IT-631</td>\n",
       "      <td>BEARING 6307</td>\n",
       "      <td>NaN</td>\n",
       "      <td>6307</td>\n",
       "      <td>Stock</td>\n",
       "      <td>SPAREPART</td>\n",
       "      <td>Active</td>\n",
       "      <td>100.0</td>\n",
       "    </tr>\n",
       "    <tr>\n",
       "      <th>4</th>\n",
       "      <td>GAS.GA.LL.00000108</td>\n",
       "      <td>BEARING 6307</td>\n",
       "      <td>NaN</td>\n",
       "      <td>Stock</td>\n",
       "      <td>GENERAL SUPPLIES</td>\n",
       "      <td>Active</td>\n",
       "      <td>2020-09-09 02:33:46</td>\n",
       "      <td>IPG</td>\n",
       "      <td>IPG-GAS.GA.LL.00000108</td>\n",
       "      <td>BEARING</td>\n",
       "      <td>...</td>\n",
       "      <td>680</td>\n",
       "      <td>2023-09-11 05:56:29.674547+00:00</td>\n",
       "      <td>IT-631</td>\n",
       "      <td>BEARING 6307</td>\n",
       "      <td>NaN</td>\n",
       "      <td>6307</td>\n",
       "      <td>Stock</td>\n",
       "      <td>SPAREPART</td>\n",
       "      <td>Active</td>\n",
       "      <td>100.0</td>\n",
       "    </tr>\n",
       "  </tbody>\n",
       "</table>\n",
       "<p>5 rows × 23 columns</p>\n",
       "</div>"
      ],
      "text/plain": [
       "            kode_item                     nama_item          part_number  \\\n",
       "0  SPT.P2.NS.00004510           BEARING SKF 6010 2Z  BEARING SKF 6010 2Z   \n",
       "1             MS01175  BEARING            ,30218 J2                  NaN   \n",
       "2        610504000106             Bearing Type 6307                  NaN   \n",
       "3             MS01055                 BEARING  6307                  NaN   \n",
       "4  GAS.GA.LL.00000108                  BEARING 6307                  NaN   \n",
       "\n",
       "  jenis_item     kategori_item  status          updated_at  sbu  \\\n",
       "0      Stock         SPAREPART  Active 2023-05-24 04:07:28  IPG   \n",
       "1      Stock         SPAREPART  Active 2015-01-17 10:17:12  ISP   \n",
       "2      Stock         SPAREPART  Active 2023-04-13 09:21:24  IRP   \n",
       "3      Stock         SPAREPART  Active 2019-10-22 08:01:07  ISP   \n",
       "4      Stock  GENERAL SUPPLIES  Active 2020-09-09 02:33:46  IPG   \n",
       "\n",
       "                  item_id sub_cluster  ... _rownum  \\\n",
       "0  IPG-SPT.P2.NS.00004510     BEARING  ...    1231   \n",
       "1             ISP-MS01175     BEARING  ...     377   \n",
       "2        IRP-610504000106     BEARING  ...     112   \n",
       "3             ISP-MS01055     BEARING  ...     273   \n",
       "4  IPG-GAS.GA.LL.00000108     BEARING  ...     680   \n",
       "\n",
       "                      _processed_at  ref_id        REF.nama_item  \\\n",
       "0  2023-09-11 05:56:34.345551+00:00  IT-629  BEARING SKF 6010 ZZ   \n",
       "1  2023-09-11 05:56:29.674547+00:00  IT-630     BEARING 30218 J2   \n",
       "2  2023-09-11 05:56:29.674547+00:00  IT-631         BEARING 6307   \n",
       "3  2023-09-11 05:56:29.674547+00:00  IT-631         BEARING 6307   \n",
       "4  2023-09-11 05:56:29.674547+00:00  IT-631         BEARING 6307   \n",
       "\n",
       "  REF.part_number REF.coarse_spec REF.jenis_item REF.kategori_item REF.status  \\\n",
       "0             NaN            6010          Stock         SPAREPART     Active   \n",
       "1             NaN        30218 J2          Stock         SPAREPART     Active   \n",
       "2             NaN            6307          Stock         SPAREPART     Active   \n",
       "3             NaN            6307          Stock         SPAREPART     Active   \n",
       "4             NaN            6307          Stock         SPAREPART     Active   \n",
       "\n",
       "  _score  \n",
       "0  100.0  \n",
       "1  100.0  \n",
       "2  100.0  \n",
       "3  100.0  \n",
       "4  100.0  \n",
       "\n",
       "[5 rows x 23 columns]"
      ]
     },
     "execution_count": 82,
     "metadata": {},
     "output_type": "execute_result"
    }
   ],
   "source": [
    "data = pd.read_excel('bearing_180923_v1.xlsx')\n",
    "data.head()"
   ]
  },
  {
   "cell_type": "code",
   "execution_count": 83,
   "id": "810f381b",
   "metadata": {},
   "outputs": [],
   "source": [
    "data['REF.nama_item']=data['REF.nama_item'].fillna(data['nama_item_clean'])"
   ]
  },
  {
   "cell_type": "code",
   "execution_count": 84,
   "id": "283ffbbe-889c-468b-90b0-3f2606de557f",
   "metadata": {},
   "outputs": [],
   "source": [
    "#remove merk \n",
    "array_list=['NTN','FAG','SKF','KOYO','THK','NSK','NACHI','FYH','TIMKEN','INA',]\n",
    "\n",
    "for target in array_list:\n",
    "    data['REF.nama_item'] = data['REF.nama_item'].str.replace(r'\\b' + target, ' ',regex=True)"
   ]
  },
  {
   "cell_type": "code",
   "execution_count": 111,
   "id": "0482e219",
   "metadata": {},
   "outputs": [],
   "source": [
    "data['REF.nama_item'] = data['REF.nama_item'].str.replace(r'\\b ART \\b', ' ',regex=True)"
   ]
  },
  {
   "cell_type": "code",
   "execution_count": 86,
   "id": "791148c4",
   "metadata": {},
   "outputs": [],
   "source": [
    "data['REF.nama_item'] = data['REF.nama_item'].str.replace(r'\\b IKOBA \\b', '',regex=True)\n",
    "data['REF.nama_item'] = data['REF.nama_item'].str.replace(r'\\b IKO \\b', '',regex=True)"
   ]
  },
  {
   "cell_type": "code",
   "execution_count": 121,
   "id": "e8db3a56",
   "metadata": {},
   "outputs": [
    {
     "name": "stdout",
     "output_type": "stream",
     "text": [
      "BEARING            ,INA NKX 30 Z || BEARING   NKX 30 Z\n",
      "BEARING KH 4060    ,INA || BEARING KH 4060  \n",
      "BEARING KH 2540    ,INA || BEARING KH 2540  \n",
      "DINAMO  MOTOR 1 HP-GANTI KAPASITOR, BEARING 6203 || DINAMO MOTOR 1 HP-GANTI KAPASITOR BEARING 6203\n",
      "DINAMO  MOTOR 1 HP-GANTI KAPASITOR,BEARING 6202 || DINAMO MOTOR 1 HP-GANTI KAPASITOR BEARING 6202\n",
      "INA.NATV.17PPO2/410BEARING ||   NATV 17PPO2/410BEARING\n",
      "NEEDLE ROLLER      ,KH-5070 INA BEARING || NEEDLE ROLLER KH 5070   BEARING\n"
     ]
    }
   ],
   "source": [
    "for i, w in data.iterrows():\n",
    "    if 'INA' in w['nama_item']:\n",
    "        print(f\"{w['nama_item']} || {w['REF.nama_item']}\")"
   ]
  },
  {
   "cell_type": "code",
   "execution_count": 104,
   "id": "96c16e35",
   "metadata": {},
   "outputs": [],
   "source": [
    "data['REF.nama_item'] = data['REF.nama_item'].str.replace('BEARING1209', 'BEARING 1209')"
   ]
  },
  {
   "cell_type": "code",
   "execution_count": 106,
   "id": "b8423165",
   "metadata": {},
   "outputs": [],
   "source": [
    "data['REF.nama_item'] = data['REF.nama_item'].str.replace('BEARINGNAF 709030', 'BEARING NAF 709030')"
   ]
  },
  {
   "cell_type": "code",
   "execution_count": 108,
   "id": "70f912a6",
   "metadata": {},
   "outputs": [],
   "source": [
    "data['REF.nama_item'] = data['REF.nama_item'].str.replace('ROLLER BEARING RNAFW 709060IKO', 'ROLLER BEARING RNAFW 709060')"
   ]
  },
  {
   "cell_type": "code",
   "execution_count": 113,
   "id": "4af9d970",
   "metadata": {},
   "outputs": [],
   "source": [
    "data['REF.nama_item'] = data['REF.nama_item'].str.replace('BEARING121283-4/059', 'BEARING 121283-4/059')"
   ]
  },
  {
   "cell_type": "code",
   "execution_count": null,
   "id": "afa0d6c2",
   "metadata": {},
   "outputs": [],
   "source": []
  },
  {
   "cell_type": "code",
   "execution_count": null,
   "id": "ed86671d",
   "metadata": {},
   "outputs": [],
   "source": []
  }
 ],
 "metadata": {
  "kernelspec": {
   "display_name": "Python 3 (ipykernel)",
   "language": "python",
   "name": "python3"
  },
  "language_info": {
   "codemirror_mode": {
    "name": "ipython",
    "version": 3
   },
   "file_extension": ".py",
   "mimetype": "text/x-python",
   "name": "python",
   "nbconvert_exporter": "python",
   "pygments_lexer": "ipython3",
   "version": "3.9.13"
  }
 },
 "nbformat": 4,
 "nbformat_minor": 5
}
